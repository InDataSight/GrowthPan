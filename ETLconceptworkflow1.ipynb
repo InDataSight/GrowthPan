{
  "nbformat": 4,
  "nbformat_minor": 0,
  "metadata": {
    "colab": {
      "provenance": [],
      "authorship_tag": "ABX9TyOsvurTPyO+aoybMT/OAHdt",
      "include_colab_link": true
    },
    "kernelspec": {
      "name": "python3",
      "display_name": "Python 3"
    },
    "language_info": {
      "name": "python"
    }
  },
  "cells": [
    {
      "cell_type": "markdown",
      "metadata": {
        "id": "view-in-github",
        "colab_type": "text"
      },
      "source": [
        "<a href=\"https://colab.research.google.com/github/InDataSight/GrowthPan/blob/main/ETLconceptworkflow1.ipynb\" target=\"_parent\"><img src=\"https://colab.research.google.com/assets/colab-badge.svg\" alt=\"Open In Colab\"/></a>"
      ]
    },
    {
      "cell_type": "markdown",
      "source": [
        "## 1.0 Setup"
      ],
      "metadata": {
        "id": "3iJuNSZ2N0tK"
      }
    },
    {
      "cell_type": "markdown",
      "source": [
        "### 1.1 Folder structure"
      ],
      "metadata": {
        "id": "1CzvuVMaOpNF"
      }
    },
    {
      "cell_type": "code",
      "execution_count": 1,
      "metadata": {
        "id": "aHUVrvZUydHy",
        "colab": {
          "base_uri": "https://localhost:8080/"
        },
        "outputId": "036a7438-92a1-4e48-ebac-7d9072877e47"
      },
      "outputs": [
        {
          "output_type": "stream",
          "name": "stdout",
          "text": [
            "mkdir: cannot create directory ‘ScrapyProfesiaRawData’: File exists\n",
            "mkdir: cannot create directory ‘ScrapyProfesiaProcessedData’: File exists\n",
            "mkdir: cannot create directory ‘ScrapyProfesiaLogs’: File exists\n"
          ]
        }
      ],
      "source": [
        "!mkdir ScrapyProfesiaRawData ScrapyProfesiaProcessedData ScrapyProfesiaLogs"
      ]
    },
    {
      "cell_type": "markdown",
      "source": [
        "### 1.2 Install libraries and modules"
      ],
      "metadata": {
        "id": "I_oTZca_OwCe"
      }
    },
    {
      "cell_type": "code",
      "source": [
        "# Define requirements\n",
        "requirements = \"\"\"\n",
        "\"\"\"\n",
        "\n",
        "# Specify the file name\n",
        "file_name = \"requirements.txt\"\n",
        "\n",
        "# Write the text to the file\n",
        "with open(file_name, \"w\") as file:\n",
        "    file.write(requirements)\n",
        "\n",
        "print(f\"{file_name} created successfully with the following content:\\n{requirements}\")\n"
      ],
      "metadata": {
        "colab": {
          "base_uri": "https://localhost:8080/"
        },
        "id": "RUHQ55BlRFc-",
        "outputId": "73780a49-053d-4cdd-f649-60cc0745bdec"
      },
      "execution_count": 2,
      "outputs": [
        {
          "output_type": "stream",
          "name": "stdout",
          "text": [
            "requirements.txt created successfully with the following content:\n",
            "\n",
            "\n"
          ]
        }
      ]
    },
    {
      "cell_type": "code",
      "source": [
        "!pip install -r requirements.txt"
      ],
      "metadata": {
        "id": "Ox5X4Ff3RwyK"
      },
      "execution_count": 3,
      "outputs": []
    },
    {
      "cell_type": "code",
      "source": [
        "#!pip install azure.storage.blob\n",
        "#!pip install azure.identity"
      ],
      "metadata": {
        "id": "RTDSTs76glS2"
      },
      "execution_count": 4,
      "outputs": []
    },
    {
      "cell_type": "code",
      "source": [
        "import subprocess\n",
        "import requests\n",
        "from bs4 import BeautifulSoup\n",
        "import json\n",
        "import re\n",
        "\n",
        "#Run pip for defined modules in the requirements.txt\n",
        "pip_install_result = subprocess.run(['pip', 'install', '-r', 'requirements.txt'], stdout=subprocess.PIPE, stderr=subprocess.PIPE)\n",
        "\n",
        "#output results for the pip_install_result\n",
        "if pip_install_result.returncode == 0:\n",
        "    print(\"Pip install successful\")\n",
        "else:\n",
        "    print(\"Pip install failed\")\n"
      ],
      "metadata": {
        "colab": {
          "base_uri": "https://localhost:8080/"
        },
        "id": "eormRimU9LXq",
        "outputId": "c67c9d37-de79-42d9-9a70-490eabcf4a98"
      },
      "execution_count": 5,
      "outputs": [
        {
          "output_type": "stream",
          "name": "stdout",
          "text": [
            "Pip install successful\n"
          ]
        }
      ]
    },
    {
      "cell_type": "markdown",
      "source": [
        "### 1.3 Test"
      ],
      "metadata": {
        "id": "SAgf05ZNOzBe"
      }
    },
    {
      "cell_type": "code",
      "source": [
        "# Define unit testing\n",
        "requirements = \"\"\"def test_library_installation():\n",
        "    try:\n",
        "        import requests, google.colab\n",
        "    except ImportError:\n",
        "        assert False, \"Required library is not installed\"\n",
        "    assert True\n",
        "\"\"\"\n",
        "\n",
        "# Specify the file name\n",
        "file_name = \"ScrapyProfesiaSetupTest.py\"\n",
        "\n",
        "# Write the text to the file\n",
        "with open(file_name, \"w\") as file:\n",
        "    file.write(requirements)\n",
        "\n",
        "print(f\"{file_name} created successfully with the following content:\\n{requirements}\")"
      ],
      "metadata": {
        "colab": {
          "base_uri": "https://localhost:8080/"
        },
        "id": "txhe0qZ6m6qk",
        "outputId": "20ca2905-0423-4c36-d423-c8ae527ac490"
      },
      "execution_count": 6,
      "outputs": [
        {
          "output_type": "stream",
          "name": "stdout",
          "text": [
            "ScrapyProfesiaSetupTest.py created successfully with the following content:\n",
            "def test_library_installation():\n",
            "    try:\n",
            "        import requests, google.colab\n",
            "    except ImportError:\n",
            "        assert False, \"Required library is not installed\"\n",
            "    assert True\n",
            "\n"
          ]
        }
      ]
    },
    {
      "cell_type": "code",
      "source": [
        "!pytest ScrapyProfesiaSetupTest.py"
      ],
      "metadata": {
        "colab": {
          "base_uri": "https://localhost:8080/"
        },
        "id": "HRCY-HHd9PpW",
        "outputId": "ca3aed7d-a4c4-460e-df7d-84e698c30521"
      },
      "execution_count": 7,
      "outputs": [
        {
          "output_type": "stream",
          "name": "stdout",
          "text": [
            "\u001b[1m======================================= test session starts ========================================\u001b[0m\n",
            "platform linux -- Python 3.11.11, pytest-8.3.4, pluggy-1.5.0\n",
            "rootdir: /content\n",
            "plugins: anyio-3.7.1, typeguard-4.4.1\n",
            "\u001b[1mcollecting ... \u001b[0m\u001b[1m\rcollected 1 item                                                                                   \u001b[0m\n",
            "\n",
            "ScrapyProfesiaSetupTest.py \u001b[32m.\u001b[0m\u001b[32m                                                                 [100%]\u001b[0m\n",
            "\n",
            "\u001b[32m======================================== \u001b[32m\u001b[1m1 passed\u001b[0m\u001b[32m in 0.78s\u001b[0m\u001b[32m =========================================\u001b[0m\n"
          ]
        }
      ]
    },
    {
      "cell_type": "markdown",
      "source": [
        "## 2.0 Extract Raw Data"
      ],
      "metadata": {
        "id": "Sg1zYTEiPYrk"
      }
    },
    {
      "cell_type": "code",
      "source": [
        "LINK = 'https://www.profesia.sk/O4988508'\n",
        "RAWFILE = '/content/ScrapyProfesiaRawData/O4988508.txt'\n",
        "PROCESSEDFILE = '/content/ScrapyProfesiaProcessedData/O4988508P.json'"
      ],
      "metadata": {
        "id": "l1NKiMPGPc7m"
      },
      "execution_count": 8,
      "outputs": []
    },
    {
      "cell_type": "markdown",
      "source": [
        "### 2.1 Single page - proof of concept"
      ],
      "metadata": {
        "id": "fgKyGqlWPdoS"
      }
    },
    {
      "cell_type": "code",
      "source": [
        "def download_and_save(url, filename):\n",
        "    try:\n",
        "        response = requests.get(url)\n",
        "        response.raise_for_status()  # Raise an exception for bad status codes\n",
        "\n",
        "        soup = BeautifulSoup(response.content, 'html.parser')\n",
        "\n",
        "        #Convert the parsed html content to a string\n",
        "        #html_string = str(soup)\n",
        "        text_content = soup.get_text(separator='\\n', strip=True) # Get the text content with newlines as separators\n",
        "\n",
        "        # Create a dictionary to store the data\n",
        "        #data = {\"html_content\": html_string}\n",
        "\n",
        "        with open(filename, 'w', encoding='utf-8') as f:\n",
        "            f.write(text_content)\n",
        "        print(f\"Successfully downloaded and saved to {filename}\")\n",
        "\n",
        "    except requests.exceptions.RequestException as e:\n",
        "        print(f\"Error downloading URL: {e}\")\n",
        "    except Exception as e:\n",
        "        print(f\"An error occurred: {e}\")\n"
      ],
      "metadata": {
        "id": "CU9AFYYbPkGM"
      },
      "execution_count": 9,
      "outputs": []
    },
    {
      "cell_type": "code",
      "source": [
        "download_and_save(LINK, RAWFILE)"
      ],
      "metadata": {
        "colab": {
          "base_uri": "https://localhost:8080/"
        },
        "id": "ef8v8CKNURSq",
        "outputId": "5d7c9a9d-95a0-4866-8a6b-84d6bfffb5f2"
      },
      "execution_count": 10,
      "outputs": [
        {
          "output_type": "stream",
          "name": "stdout",
          "text": [
            "Successfully downloaded and saved to /content/ScrapyProfesiaRawData/O4988508.txt\n"
          ]
        }
      ]
    },
    {
      "cell_type": "markdown",
      "source": [
        "## 3.0 Transform Raw Data"
      ],
      "metadata": {
        "id": "QCuCoTJFlnoF"
      }
    },
    {
      "cell_type": "code",
      "source": [
        "def extract_data(inputfile,outputfile):\n",
        "\n",
        "  with open(inputfile, 'r', encoding='utf-8') as f:\n",
        "          text_content = f.read()\n",
        "  text_content = re.sub(r'Hľadanie práce.*?Hľadanie práce', '', text_content, flags=re.DOTALL)\n",
        "\n",
        "  if 'Odporučiť ponuku známemu' in text_content:\n",
        "    text_content = text_content.split('Odporučiť ponuku známemu', 1)[0]\n",
        "  else:\n",
        "    text_content = text_content.split('Reagovať na ponuku', 1)[0]\n",
        "\n",
        "  data = {}\n",
        "  data['ID'] = re.search(r'ID:\\s*(\\d+)', text_content).group(1)\n",
        "  data['PublishedDate'] = re.search(r'Dátum zverejnenia:\\s*([\\d\\.]+)', text_content).group(1)\n",
        "  #add data['ExtractDate'] = ... wont work if I dont have metadata available\n",
        "  #at blob storage - test\n",
        "  #at VM file extract date is the date I am looking for\n",
        "  #should be almost same as the blob Creation-Date\n",
        "  data['Location'] = re.search(r'lokalita:\\s*(.+)', text_content).group(1)\n",
        "  # Find text between 'Pozícia' and 'Spoločnosť'\n",
        "  positions_text = re.search(r'Pozícia:\\s*(.+?)(?=\\nSpoločnosť:)', text_content, re.DOTALL).group(1)\n",
        "  # Get valid lines, ignore ',', create\n",
        "  positions = [line.strip() for line in positions_text.splitlines() if line.strip() and line.strip() != ',']\n",
        "  data['Positions'] = positions\n",
        "  data['Company'] = re.search(r'Spoločnosť:\\s*(.+)', text_content).group(1)\n",
        "  data['SalaryBrutto'] = re.search(r'Základná zložka mzdy \\(brutto\\):\\s*(.+)', text_content).group(1)\n",
        "  data['JobOfferText'] = text_content\n",
        "\n",
        "  json_data = json.dumps(data, indent=4)\n",
        "\n",
        "  with open(outputfile, 'w', encoding='utf-8') as f:\n",
        "            f.write(json_data)\n",
        "  print(f'Successfully downloaded and saved to {outputfile}')"
      ],
      "metadata": {
        "id": "gyOteVgFQWyL"
      },
      "execution_count": 11,
      "outputs": []
    },
    {
      "cell_type": "code",
      "source": [
        "extract_data(RAWFILE,PROCESSEDFILE)"
      ],
      "metadata": {
        "colab": {
          "base_uri": "https://localhost:8080/"
        },
        "id": "XPM1RKbRdZML",
        "outputId": "7b6c3177-f7ed-4dfe-d4b9-6ec29b746590"
      },
      "execution_count": 12,
      "outputs": [
        {
          "output_type": "stream",
          "name": "stdout",
          "text": [
            "Successfully downloaded and saved to /content/ScrapyProfesiaProcessedData/O4988508P.json\n"
          ]
        }
      ]
    },
    {
      "cell_type": "code",
      "source": [
        "import requests\n",
        "\n",
        "# Get the public IP address\n",
        "public_ip = requests.get(\"https://api64.ipify.org\").text\n",
        "print(\"Google Colab Public IP:\", public_ip)\n",
        "#Add IP to FW@AzureBlobStorage\n",
        "#Google Colab Public IP: 34.86.192.81"
      ],
      "metadata": {
        "id": "CW9Y_cJvPbOa",
        "colab": {
          "base_uri": "https://localhost:8080/"
        },
        "outputId": "bf836914-e563-4b17-b009-74ce0eb0a832"
      },
      "execution_count": 13,
      "outputs": [
        {
          "output_type": "stream",
          "name": "stdout",
          "text": [
            "Google Colab Public IP: 34.86.192.81\n"
          ]
        }
      ]
    },
    {
      "cell_type": "code",
      "source": [
        "from google.colab import userdata\n",
        "connection_string = userdata.get('connectionstring')\n",
        "\n",
        "from azure.storage.blob import BlobServiceClient\n",
        "\n",
        "container_name=\"profesiafulldata\"\n",
        "blob_name = \"offer_4988508.txt\""
      ],
      "metadata": {
        "id": "V5Qs_g8UhK3Q"
      },
      "execution_count": 14,
      "outputs": []
    },
    {
      "cell_type": "code",
      "source": [
        "# Connect to the blob service\n",
        "blob_service_client = BlobServiceClient.from_connection_string(connection_string)\n",
        "\n",
        "# text\n",
        "blob_client = blob_service_client.get_blob_client(container=container_name, blob=blob_name)\n",
        "\n",
        "# Download the blob content\n",
        "#blob_data = blob_client.download_blob()\n",
        "\n",
        "# Read data\n",
        "blob_content = blob_client.download_blob().readall().decode(\"utf-8\")"
      ],
      "metadata": {
        "id": "Qq8O0pBnimT2"
      },
      "execution_count": 15,
      "outputs": []
    },
    {
      "cell_type": "code",
      "source": [
        "# Get blob properties\n",
        "# blob_properties = blob_client.get_blob_properties()"
      ],
      "metadata": {
        "id": "jPnULpxyi9-4"
      },
      "execution_count": 16,
      "outputs": []
    },
    {
      "cell_type": "code",
      "source": [
        "# blob_properties"
      ],
      "metadata": {
        "id": "mpjkOgKMjQbc"
      },
      "execution_count": 17,
      "outputs": []
    },
    {
      "cell_type": "code",
      "source": [
        "#ExtractDate = blob_client.get_blob_properties()\n",
        "#ExtractDate = blob_properties.get(\"creation_time\")"
      ],
      "metadata": {
        "id": "Gm93JijHtFZa"
      },
      "execution_count": 18,
      "outputs": []
    },
    {
      "cell_type": "code",
      "source": [
        "#timestamp_str = ExtractDate.isoformat()"
      ],
      "metadata": {
        "id": "y9ObDwymDVvO"
      },
      "execution_count": 19,
      "outputs": []
    },
    {
      "cell_type": "code",
      "source": [
        "#ExtractDate"
      ],
      "metadata": {
        "id": "GSpKtWgy-Po_"
      },
      "execution_count": 20,
      "outputs": []
    },
    {
      "cell_type": "code",
      "source": [
        "#timestamp_str"
      ],
      "metadata": {
        "id": "iQ3AJ-g4Dfzu"
      },
      "execution_count": 21,
      "outputs": []
    },
    {
      "cell_type": "code",
      "source": [
        "#ExtractDate1 = blob_client.get_blob_properties().get(\"creation_time\").isoformat()\n",
        "#ExtractDate1"
      ],
      "metadata": {
        "id": "cfAFTdieELtd"
      },
      "execution_count": 22,
      "outputs": []
    },
    {
      "cell_type": "code",
      "source": [
        "RAWFILEAZURE = blob_content\n",
        "METADATA = blob_client.get_blob_properties()\n",
        "PROCESSEDFILEAZURE = '/content/ScrapyProfesiaProcessedData/offer_4988508P.json'"
      ],
      "metadata": {
        "id": "qMOBzH5wjRl6"
      },
      "execution_count": 23,
      "outputs": []
    },
    {
      "cell_type": "code",
      "source": [
        "def extract_data_azure(inputfile,metadatafile,outputfile):\n",
        "\n",
        "  text_content = re.sub(r'Hľadanie práce.*?Hľadanie práce', '', inputfile, flags=re.DOTALL)\n",
        "\n",
        "  if 'Odporučiť ponuku známemu' in text_content:\n",
        "    text_content = text_content.split('Odporučiť ponuku známemu', 1)[0]\n",
        "  else:\n",
        "    text_content = text_content.split('Reagovať na ponuku', 1)[0]\n",
        "\n",
        "  data = {}\n",
        "  data['ID'] = re.search(r'ID:\\s*(\\d+)', text_content).group(1)\n",
        "  data['PublishedDate'] = re.search(r'Dátum zverejnenia:\\s*([\\d\\.]+)', text_content).group(1)\n",
        "  data['ExtractDate'] = metadatafile.get(\"creation_time\").isoformat()\n",
        "  data['Location'] = re.search(r'lokalita:\\s*(.+)', text_content).group(1)\n",
        "  # Find text between 'Pozícia' and 'Spoločnosť'\n",
        "  positions_text = re.search(r'Pozícia:\\s*(.+?)(?=\\nSpoločnosť:)', text_content, re.DOTALL).group(1)\n",
        "  # Get valid lines, ignore ',', create\n",
        "  positions = [line.strip() for line in positions_text.splitlines() if line.strip() and line.strip() != ',']\n",
        "  data['Positions'] = positions\n",
        "  data['Company'] = re.search(r'Spoločnosť:\\s*(.+)', text_content).group(1)\n",
        "  data['SalaryBrutto'] = re.search(r'Základná zložka mzdy \\(brutto\\):\\s*(.+)', text_content).group(1)\n",
        "  data['JobOfferText'] = text_content\n",
        "\n",
        "  json_data = json.dumps(data, indent=4)\n",
        "\n",
        "  with open(outputfile, 'w', encoding='utf-8') as f:\n",
        "            f.write(json_data)\n",
        "  print(f'Successfully downloaded and saved to {outputfile}')"
      ],
      "metadata": {
        "id": "40OGNJUusxCT"
      },
      "execution_count": 24,
      "outputs": []
    },
    {
      "cell_type": "code",
      "source": [
        "extract_data_azure(blob_content,METADATA,PROCESSEDFILEAZURE)"
      ],
      "metadata": {
        "colab": {
          "base_uri": "https://localhost:8080/"
        },
        "id": "gpc2u57Ioean",
        "outputId": "dd04de85-3397-456f-fef0-d249752a707f"
      },
      "execution_count": 25,
      "outputs": [
        {
          "output_type": "stream",
          "name": "stdout",
          "text": [
            "Successfully downloaded and saved to /content/ScrapyProfesiaProcessedData/offer_4988508P.json\n"
          ]
        }
      ]
    },
    {
      "cell_type": "code",
      "source": [
        "!cat /content/ScrapyProfesiaProcessedData/offer_4988508P.json"
      ],
      "metadata": {
        "colab": {
          "base_uri": "https://localhost:8080/"
        },
        "id": "klGnqE9vtBIz",
        "outputId": "e91f24aa-b013-4f09-c84e-aa6c641be01e"
      },
      "execution_count": 28,
      "outputs": [
        {
          "output_type": "stream",
          "name": "stdout",
          "text": [
            "{\n",
            "    \"ID\": \"4988508\",\n",
            "    \"PublishedDate\": \"8.1.2025\",\n",
            "    \"ExtractDate\": \"2025-01-09T10:03:08+00:00\",\n",
            "    \"Location\": \"Bratislava\",\n",
            "    \"Positions\": [\n",
            "        \"Business Intelligence Specialist\",\n",
            "        \"Database Analyst\",\n",
            "        \"Programmer\",\n",
            "        \"Python Programmer\"\n",
            "    ],\n",
            "    \"Company\": \"Swiss Re\",\n",
            "    \"SalaryBrutto\": \"2 400 EUR/month\",\n",
            "    \"JobOfferText\": \"Data Engineer - Swiss Re | PROFESIA.SK\\n\\nData Engineer\\nAbout us\\nOur benefits\\nOpen positions\\nData Engineer\\nPlace of work\\nTwin City B, Mlynsk\\u00e9 nivy, Bratislava, Slovakia (Job with occasional home office)\\nContract type\\nfull-time\\nWage (gross)\\n2 400 - 4 100 EUR/month\\nFor Slovakia the base salary range for this position is between [EUR 2,400] and [EUR 4,100] per month (for a full-time role). The specific salary offered considers: \\u2022 the requirements, scope, complexity and responsibilities of the role, \\u2022 the applicant\\u2019s own profile including education/qualifications, expertise, specialization, skills and experience. In addition to your base salary, you may be eligible for additional rewards and benefits including an attractive performance-based bonus.\\nInformation about the position\\nJob description, responsibilities and duties\\nIn the role of Data Engineer, your core responsibility will be to maintain existing and develop new ETL transformations, process automations and reporting solutions.\\nAs a member of our team, you will:\\n\\u2022 Work with a wide range of tools and technologies \\u2022 Debug, maintain and develop SQL and Python data transformations\\n\\u2022 Perform analyses of existing code, identify problems and propose solutions\\n\\u2022 Analyze requirements, understand specifications and transform them into technical solutions\\n\\u2022 Work closely with business analysts and business stakeholders\\nAbout the team:\\nOur team is a diverse mix of 10, working in hybrid setup with a footprint in different world locations, with majority of the team located in Bratislava. The team is part of Asset Management department, and we cover various topics, including regulatory reporting, data reconciliations, data reporting and process automation.\\nEmployee perks, benefits\\nYou can look forward to extra rewards and benefits including:\\n- Attractive performance-based bonus\\n- Ultra flexible working time in hybrid setup, allowing you to work also from home\\n- Modern office spaces in attractive location\\n- 5 additional days of holiday\\n- Lunch allowance fully paid by Swiss Re\\n- Referral bonus\\n- Pension & risk insurance contribution\\n- Sick days and sick leave support\\n- Public transport benefit\\n- Multisport card\\nInformation about the selection process\\nWe provide feedback to all candidates via email. If you have not heard back from us, please check your spam folder.\\nRequirements for the employee\\nCandidates with education suit the position\\nUniversity education (Bachelor's degree)\\nUniversity education (Master's degree)\\nPostgraduate (Doctorate)\\nLanguage skills\\nEnglish - Upper intermediate (B2)\\nPersonality requirements and skills\\nYou are eager to learn to navigate and work in a wide application landscape. Your daily job is to write and debug Python and SQL code. You want to learn new things, new tools, new technologies.\\nEssentials\\n\\u2022 University degree or equivalent experience in a technical role\\n\\u2022 3+ years of relevant working experience on data transformations\\n\\u2022 Proficiency in Oracle and/or PostgreSQL\\n\\u2022 Proficiency in Python\\n\\u2022 Sound communication skills with stakeholders across an organisation, with good command of English\\nNice to Haves\\n\\u2022 Experience or willingness to learn Power BI, PowerAutomate, SSRS, Palantir's Foundry \\u2022 Experience with Jira, DevOps, Azure\\n\\u2022 Knowledge of financial products, asset management topics\\nAdvertiser\\nBrief description of the company\\nAs the world's leading and most diversified global reinsurer, we offer as our core business financial services products that enable risk taking essential to enterprise and progress. Our company was founded in Zurich, Switzerland in 1863, and operates in more than 25 countries and provides its expertise and services to clients throughout the world. We combine financial strengths with experience, knowledge and creative thought to explore new opportunities in the interests of our clients, staff and shareholders.\\nNumber of employees\\n1700 and more employees\\nCompany address\\nLearn more about working in Swiss Re Slovakia.\\nContact\\nContact person: Livia Pasztorova\\nApply here\\nID:\\n4988508\\nD\\u00e1tum zverejnenia:\\n8.1.2025\\n2025-01-08\\nlokalita:\\nBratislava\\nPoz\\u00edcia:\\nBusiness Intelligence Specialist\\n,\\nDatabase Analyst\\n,\\nProgrammer\\n,\\nPython Programmer\\nSpolo\\u010dnos\\u0165:\\nSwiss Re\\nZ\\u00e1kladn\\u00e1 zlo\\u017eka mzdy (brutto):\\n2 400 EUR/month\\n\"\n",
            "}"
          ]
        }
      ]
    },
    {
      "cell_type": "code",
      "source": [
        "!cat /content/ScrapyProfesiaProcessedData/O4988508P.json"
      ],
      "metadata": {
        "colab": {
          "base_uri": "https://localhost:8080/"
        },
        "id": "gYhqbUg5N6X4",
        "outputId": "28a7240b-dbfe-420b-daa0-ee51eae12352"
      },
      "execution_count": 31,
      "outputs": [
        {
          "output_type": "stream",
          "name": "stdout",
          "text": [
            "{\n",
            "    \"ID\": \"4988508\",\n",
            "    \"PublishedDate\": \"8.1.2025\",\n",
            "    \"Location\": \"Bratislava\",\n",
            "    \"Positions\": [\n",
            "        \"Business Intelligence Specialist\",\n",
            "        \"Database Analyst\",\n",
            "        \"Programmer\",\n",
            "        \"Python Programmer\"\n",
            "    ],\n",
            "    \"Company\": \"Swiss Re\",\n",
            "    \"SalaryBrutto\": \"2 400 EUR/month\",\n",
            "    \"JobOfferText\": \"Data Engineer - Swiss Re | PROFESIA.SK\\n\\nData Engineer\\nAbout us\\nOur benefits\\nOpen positions\\nData Engineer\\nPlace of work\\nTwin City B, Mlynsk\\u00e9 nivy, Bratislava, Slovakia (Job with occasional home office)\\nContract type\\nfull-time\\nWage (gross)\\n2 400 - 4 100 EUR/month\\nFor Slovakia the base salary range for this position is between [EUR 2,400] and [EUR 4,100] per month (for a full-time role). The specific salary offered considers: \\u2022 the requirements, scope, complexity and responsibilities of the role, \\u2022 the applicant\\u2019s own profile including education/qualifications, expertise, specialization, skills and experience. In addition to your base salary, you may be eligible for additional rewards and benefits including an attractive performance-based bonus.\\nInformation about the position\\nJob description, responsibilities and duties\\nIn the role of Data Engineer, your core responsibility will be to maintain existing and develop new ETL transformations, process automations and reporting solutions.\\nAs a member of our team, you will:\\n\\u2022 Work with a wide range of tools and technologies \\u2022 Debug, maintain and develop SQL and Python data transformations\\n\\u2022 Perform analyses of existing code, identify problems and propose solutions\\n\\u2022 Analyze requirements, understand specifications and transform them into technical solutions\\n\\u2022 Work closely with business analysts and business stakeholders\\nAbout the team:\\nOur team is a diverse mix of 10, working in hybrid setup with a footprint in different world locations, with majority of the team located in Bratislava. The team is part of Asset Management department, and we cover various topics, including regulatory reporting, data reconciliations, data reporting and process automation.\\nEmployee perks, benefits\\nYou can look forward to extra rewards and benefits including:\\n- Attractive performance-based bonus\\n- Ultra flexible working time in hybrid setup, allowing you to work also from home\\n- Modern office spaces in attractive location\\n- 5 additional days of holiday\\n- Lunch allowance fully paid by Swiss Re\\n- Referral bonus\\n- Pension & risk insurance contribution\\n- Sick days and sick leave support\\n- Public transport benefit\\n- Multisport card\\nInformation about the selection process\\nWe provide feedback to all candidates via email. If you have not heard back from us, please check your spam folder.\\nRequirements for the employee\\nCandidates with education suit the position\\nUniversity education (Bachelor's degree)\\nUniversity education (Master's degree)\\nPostgraduate (Doctorate)\\nLanguage skills\\nEnglish - Upper intermediate (B2)\\nPersonality requirements and skills\\nYou are eager to learn to navigate and work in a wide application landscape. Your daily job is to write and debug Python and SQL code. You want to learn new things, new tools, new technologies.\\nEssentials\\n\\u2022 University degree or equivalent experience in a technical role\\n\\u2022 3+ years of relevant working experience on data transformations\\n\\u2022 Proficiency in Oracle and/or PostgreSQL\\n\\u2022 Proficiency in Python\\n\\u2022 Sound communication skills with stakeholders across an organisation, with good command of English\\nNice to Haves\\n\\u2022 Experience or willingness to learn Power BI, PowerAutomate, SSRS, Palantir's Foundry \\u2022 Experience with Jira, DevOps, Azure\\n\\u2022 Knowledge of financial products, asset management topics\\nAdvertiser\\nBrief description of the company\\nAs the world's leading and most diversified global reinsurer, we offer as our core business financial services products that enable risk taking essential to enterprise and progress. Our company was founded in Zurich, Switzerland in 1863, and operates in more than 25 countries and provides its expertise and services to clients throughout the world. We combine financial strengths with experience, knowledge and creative thought to explore new opportunities in the interests of our clients, staff and shareholders.\\nNumber of employees\\n1700 and more employees\\nCompany address\\nLearn more about working in Swiss Re Slovakia.\\nContact\\nContact person: Livia Pasztorova\\nApply here\\nID:\\n4988508\\nD\\u00e1tum zverejnenia:\\n8.1.2025\\n2025-01-08\\nlokalita:\\nBratislava\\nPoz\\u00edcia:\\nBusiness Intelligence Specialist\\n,\\nDatabase Analyst\\n,\\nProgrammer\\n,\\nPython Programmer\\nSpolo\\u010dnos\\u0165:\\nSwiss Re\\nZ\\u00e1kladn\\u00e1 zlo\\u017eka mzdy (brutto):\\n2 400 EUR/month\\n\"\n",
            "}"
          ]
        }
      ]
    },
    {
      "cell_type": "code",
      "source": [
        "!ls -aGl /content/ScrapyProfesiaProcessedData/"
      ],
      "metadata": {
        "colab": {
          "base_uri": "https://localhost:8080/"
        },
        "id": "vb6t_kjGOJey",
        "outputId": "2fd16dc2-3b8e-425c-bc56-e6ff3a71d555"
      },
      "execution_count": 32,
      "outputs": [
        {
          "output_type": "stream",
          "name": "stdout",
          "text": [
            "total 28\n",
            "drwxr-xr-x 3 root 4096 Jan 24 16:33 .\n",
            "drwxr-xr-x 1 root 4096 Jan 24 16:33 ..\n",
            "drwxr-xr-x 2 root 4096 Jan 24 16:32 .ipynb_checkpoints\n",
            "-rw-r--r-- 1 root 4786 Jan 24 16:33 O4988508P.json\n",
            "-rw-r--r-- 1 root 4834 Jan 24 16:33 offer_4988508P.json\n"
          ]
        }
      ]
    },
    {
      "cell_type": "code",
      "source": [],
      "metadata": {
        "id": "r9uQCjIDOOTD"
      },
      "execution_count": null,
      "outputs": []
    }
  ]
}